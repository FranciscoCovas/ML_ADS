{
 "cells": [
  {
   "cell_type": "markdown",
   "source": [
    "# Dimensionality reduction exercises with the iris dataset"
   ],
   "metadata": {
    "collapsed": false
   },
   "id": "872f43e12afc6735"
  },
  {
   "cell_type": "code",
   "outputs": [
    {
     "data": {
      "text/plain": "   Sepal.Length  Sepal.Width  Petal.Length  Petal.Width Species\n1           5.1          3.5           1.4          0.2  setosa\n2           4.9          3.0           1.4          0.2  setosa\n3           4.7          3.2           1.3          0.2  setosa\n4           4.6          3.1           1.5          0.2  setosa\n5           5.0          3.6           1.4          0.2  setosa",
      "text/html": "<div>\n<style scoped>\n    .dataframe tbody tr th:only-of-type {\n        vertical-align: middle;\n    }\n\n    .dataframe tbody tr th {\n        vertical-align: top;\n    }\n\n    .dataframe thead th {\n        text-align: right;\n    }\n</style>\n<table border=\"1\" class=\"dataframe\">\n  <thead>\n    <tr style=\"text-align: right;\">\n      <th></th>\n      <th>Sepal.Length</th>\n      <th>Sepal.Width</th>\n      <th>Petal.Length</th>\n      <th>Petal.Width</th>\n      <th>Species</th>\n    </tr>\n  </thead>\n  <tbody>\n    <tr>\n      <th>1</th>\n      <td>5.1</td>\n      <td>3.5</td>\n      <td>1.4</td>\n      <td>0.2</td>\n      <td>setosa</td>\n    </tr>\n    <tr>\n      <th>2</th>\n      <td>4.9</td>\n      <td>3.0</td>\n      <td>1.4</td>\n      <td>0.2</td>\n      <td>setosa</td>\n    </tr>\n    <tr>\n      <th>3</th>\n      <td>4.7</td>\n      <td>3.2</td>\n      <td>1.3</td>\n      <td>0.2</td>\n      <td>setosa</td>\n    </tr>\n    <tr>\n      <th>4</th>\n      <td>4.6</td>\n      <td>3.1</td>\n      <td>1.5</td>\n      <td>0.2</td>\n      <td>setosa</td>\n    </tr>\n    <tr>\n      <th>5</th>\n      <td>5.0</td>\n      <td>3.6</td>\n      <td>1.4</td>\n      <td>0.2</td>\n      <td>setosa</td>\n    </tr>\n  </tbody>\n</table>\n</div>"
     },
     "execution_count": 1,
     "metadata": {},
     "output_type": "execute_result"
    }
   ],
   "source": [
    "# load the iris dataset (datasets/iris.csv)\n",
    "\n",
    "\n",
    "import pandas as pd \n",
    "iris_df = pd.read_csv('../../datasets/iris.csv',index_col=0)\n",
    "iris_df.head()\n"
   ],
   "metadata": {
    "collapsed": false,
    "ExecuteTime": {
     "end_time": "2024-02-27T10:30:10.399590200Z",
     "start_time": "2024-02-27T10:30:10.332240800Z"
    }
   },
   "id": "68e38a52cf757027",
   "execution_count": 1
  },
  {
   "cell_type": "code",
   "outputs": [
    {
     "name": "stdout",
     "output_type": "stream",
     "text": [
      "1\n"
     ]
    },
    {
     "data": {
      "text/plain": "       Sepal.Length  Sepal.Width  Petal.Length  Petal.Width\ncount    150.000000   150.000000    150.000000   150.000000\nmean       5.843333     3.057333      3.758000     1.199333\nstd        0.828066     0.435866      1.765298     0.762238\nmin        4.300000     2.000000      1.000000     0.100000\n25%        5.100000     2.800000      1.600000     0.300000\n50%        5.800000     3.000000      4.350000     1.300000\n75%        6.400000     3.300000      5.100000     1.800000\nmax        7.900000     4.400000      6.900000     2.500000",
      "text/html": "<div>\n<style scoped>\n    .dataframe tbody tr th:only-of-type {\n        vertical-align: middle;\n    }\n\n    .dataframe tbody tr th {\n        vertical-align: top;\n    }\n\n    .dataframe thead th {\n        text-align: right;\n    }\n</style>\n<table border=\"1\" class=\"dataframe\">\n  <thead>\n    <tr style=\"text-align: right;\">\n      <th></th>\n      <th>Sepal.Length</th>\n      <th>Sepal.Width</th>\n      <th>Petal.Length</th>\n      <th>Petal.Width</th>\n    </tr>\n  </thead>\n  <tbody>\n    <tr>\n      <th>count</th>\n      <td>150.000000</td>\n      <td>150.000000</td>\n      <td>150.000000</td>\n      <td>150.000000</td>\n    </tr>\n    <tr>\n      <th>mean</th>\n      <td>5.843333</td>\n      <td>3.057333</td>\n      <td>3.758000</td>\n      <td>1.199333</td>\n    </tr>\n    <tr>\n      <th>std</th>\n      <td>0.828066</td>\n      <td>0.435866</td>\n      <td>1.765298</td>\n      <td>0.762238</td>\n    </tr>\n    <tr>\n      <th>min</th>\n      <td>4.300000</td>\n      <td>2.000000</td>\n      <td>1.000000</td>\n      <td>0.100000</td>\n    </tr>\n    <tr>\n      <th>25%</th>\n      <td>5.100000</td>\n      <td>2.800000</td>\n      <td>1.600000</td>\n      <td>0.300000</td>\n    </tr>\n    <tr>\n      <th>50%</th>\n      <td>5.800000</td>\n      <td>3.000000</td>\n      <td>4.350000</td>\n      <td>1.300000</td>\n    </tr>\n    <tr>\n      <th>75%</th>\n      <td>6.400000</td>\n      <td>3.300000</td>\n      <td>5.100000</td>\n      <td>1.800000</td>\n    </tr>\n    <tr>\n      <th>max</th>\n      <td>7.900000</td>\n      <td>4.400000</td>\n      <td>6.900000</td>\n      <td>2.500000</td>\n    </tr>\n  </tbody>\n</table>\n</div>"
     },
     "execution_count": 20,
     "metadata": {},
     "output_type": "execute_result"
    }
   ],
   "source": [
    "# do some exploratory data analysis\n",
    "print(iris_df.duplicated().sum())\n",
    "iris_df=iris_df.drop(columns=['Species'])\n",
    "iris_df.describe()\n"
   ],
   "metadata": {
    "collapsed": false,
    "ExecuteTime": {
     "end_time": "2024-02-27T10:44:45.376045500Z",
     "start_time": "2024-02-27T10:44:45.333858900Z"
    }
   },
   "id": "3bb88dd6c0537bca",
   "execution_count": 20
  },
  {
   "cell_type": "code",
   "outputs": [
    {
     "data": {
      "text/plain": "array([[-9.00681170e-01,  1.01900435e+00, -1.34022653e+00,\n        -1.31544430e+00],\n       [-1.14301691e+00, -1.31979479e-01, -1.34022653e+00,\n        -1.31544430e+00],\n       [-1.38535265e+00,  3.28414053e-01, -1.39706395e+00,\n        -1.31544430e+00],\n       [-1.50652052e+00,  9.82172869e-02, -1.28338910e+00,\n        -1.31544430e+00],\n       [-1.02184904e+00,  1.24920112e+00, -1.34022653e+00,\n        -1.31544430e+00],\n       [-5.37177559e-01,  1.93979142e+00, -1.16971425e+00,\n        -1.05217993e+00],\n       [-1.50652052e+00,  7.88807586e-01, -1.34022653e+00,\n        -1.18381211e+00],\n       [-1.02184904e+00,  7.88807586e-01, -1.28338910e+00,\n        -1.31544430e+00],\n       [-1.74885626e+00, -3.62176246e-01, -1.34022653e+00,\n        -1.31544430e+00],\n       [-1.14301691e+00,  9.82172869e-02, -1.28338910e+00,\n        -1.44707648e+00],\n       [-5.37177559e-01,  1.47939788e+00, -1.28338910e+00,\n        -1.31544430e+00],\n       [-1.26418478e+00,  7.88807586e-01, -1.22655167e+00,\n        -1.31544430e+00],\n       [-1.26418478e+00, -1.31979479e-01, -1.34022653e+00,\n        -1.44707648e+00],\n       [-1.87002413e+00, -1.31979479e-01, -1.51073881e+00,\n        -1.44707648e+00],\n       [-5.25060772e-02,  2.16998818e+00, -1.45390138e+00,\n        -1.31544430e+00],\n       [-1.73673948e-01,  3.09077525e+00, -1.28338910e+00,\n        -1.05217993e+00],\n       [-5.37177559e-01,  1.93979142e+00, -1.39706395e+00,\n        -1.05217993e+00],\n       [-9.00681170e-01,  1.01900435e+00, -1.34022653e+00,\n        -1.18381211e+00],\n       [-1.73673948e-01,  1.70959465e+00, -1.16971425e+00,\n        -1.18381211e+00],\n       [-9.00681170e-01,  1.70959465e+00, -1.28338910e+00,\n        -1.18381211e+00],\n       [-5.37177559e-01,  7.88807586e-01, -1.16971425e+00,\n        -1.31544430e+00],\n       [-9.00681170e-01,  1.47939788e+00, -1.28338910e+00,\n        -1.05217993e+00],\n       [-1.50652052e+00,  1.24920112e+00, -1.56757623e+00,\n        -1.31544430e+00],\n       [-9.00681170e-01,  5.58610819e-01, -1.16971425e+00,\n        -9.20547742e-01],\n       [-1.26418478e+00,  7.88807586e-01, -1.05603939e+00,\n        -1.31544430e+00],\n       [-1.02184904e+00, -1.31979479e-01, -1.22655167e+00,\n        -1.31544430e+00],\n       [-1.02184904e+00,  7.88807586e-01, -1.22655167e+00,\n        -1.05217993e+00],\n       [-7.79513300e-01,  1.01900435e+00, -1.28338910e+00,\n        -1.31544430e+00],\n       [-7.79513300e-01,  7.88807586e-01, -1.34022653e+00,\n        -1.31544430e+00],\n       [-1.38535265e+00,  3.28414053e-01, -1.22655167e+00,\n        -1.31544430e+00],\n       [-1.26418478e+00,  9.82172869e-02, -1.22655167e+00,\n        -1.31544430e+00],\n       [-5.37177559e-01,  7.88807586e-01, -1.28338910e+00,\n        -1.05217993e+00],\n       [-7.79513300e-01,  2.40018495e+00, -1.28338910e+00,\n        -1.44707648e+00],\n       [-4.16009689e-01,  2.63038172e+00, -1.34022653e+00,\n        -1.31544430e+00],\n       [-1.14301691e+00,  9.82172869e-02, -1.28338910e+00,\n        -1.31544430e+00],\n       [-1.02184904e+00,  3.28414053e-01, -1.45390138e+00,\n        -1.31544430e+00],\n       [-4.16009689e-01,  1.01900435e+00, -1.39706395e+00,\n        -1.31544430e+00],\n       [-1.14301691e+00,  1.24920112e+00, -1.34022653e+00,\n        -1.44707648e+00],\n       [-1.74885626e+00, -1.31979479e-01, -1.39706395e+00,\n        -1.31544430e+00],\n       [-9.00681170e-01,  7.88807586e-01, -1.28338910e+00,\n        -1.31544430e+00],\n       [-1.02184904e+00,  1.01900435e+00, -1.39706395e+00,\n        -1.18381211e+00],\n       [-1.62768839e+00, -1.74335684e+00, -1.39706395e+00,\n        -1.18381211e+00],\n       [-1.74885626e+00,  3.28414053e-01, -1.39706395e+00,\n        -1.31544430e+00],\n       [-1.02184904e+00,  1.01900435e+00, -1.22655167e+00,\n        -7.88915558e-01],\n       [-9.00681170e-01,  1.70959465e+00, -1.05603939e+00,\n        -1.05217993e+00],\n       [-1.26418478e+00, -1.31979479e-01, -1.34022653e+00,\n        -1.18381211e+00],\n       [-9.00681170e-01,  1.70959465e+00, -1.22655167e+00,\n        -1.31544430e+00],\n       [-1.50652052e+00,  3.28414053e-01, -1.34022653e+00,\n        -1.31544430e+00],\n       [-6.58345429e-01,  1.47939788e+00, -1.28338910e+00,\n        -1.31544430e+00],\n       [-1.02184904e+00,  5.58610819e-01, -1.34022653e+00,\n        -1.31544430e+00],\n       [ 1.40150837e+00,  3.28414053e-01,  5.35408562e-01,\n         2.64141916e-01],\n       [ 6.74501145e-01,  3.28414053e-01,  4.21733708e-01,\n         3.95774101e-01],\n       [ 1.28034050e+00,  9.82172869e-02,  6.49083415e-01,\n         3.95774101e-01],\n       [-4.16009689e-01, -1.74335684e+00,  1.37546573e-01,\n         1.32509732e-01],\n       [ 7.95669016e-01, -5.92373012e-01,  4.78571135e-01,\n         3.95774101e-01],\n       [-1.73673948e-01, -5.92373012e-01,  4.21733708e-01,\n         1.32509732e-01],\n       [ 5.53333275e-01,  5.58610819e-01,  5.35408562e-01,\n         5.27406285e-01],\n       [-1.14301691e+00, -1.51316008e+00, -2.60315415e-01,\n        -2.62386821e-01],\n       [ 9.16836886e-01, -3.62176246e-01,  4.78571135e-01,\n         1.32509732e-01],\n       [-7.79513300e-01, -8.22569778e-01,  8.07091462e-02,\n         2.64141916e-01],\n       [-1.02184904e+00, -2.43394714e+00, -1.46640561e-01,\n        -2.62386821e-01],\n       [ 6.86617933e-02, -1.31979479e-01,  2.51221427e-01,\n         3.95774101e-01],\n       [ 1.89829664e-01, -1.97355361e+00,  1.37546573e-01,\n        -2.62386821e-01],\n       [ 3.10997534e-01, -3.62176246e-01,  5.35408562e-01,\n         2.64141916e-01],\n       [-2.94841818e-01, -3.62176246e-01, -8.98031345e-02,\n         1.32509732e-01],\n       [ 1.03800476e+00,  9.82172869e-02,  3.64896281e-01,\n         2.64141916e-01],\n       [-2.94841818e-01, -1.31979479e-01,  4.21733708e-01,\n         3.95774101e-01],\n       [-5.25060772e-02, -8.22569778e-01,  1.94384000e-01,\n        -2.62386821e-01],\n       [ 4.32165405e-01, -1.97355361e+00,  4.21733708e-01,\n         3.95774101e-01],\n       [-2.94841818e-01, -1.28296331e+00,  8.07091462e-02,\n        -1.30754636e-01],\n       [ 6.86617933e-02,  3.28414053e-01,  5.92245988e-01,\n         7.90670654e-01],\n       [ 3.10997534e-01, -5.92373012e-01,  1.37546573e-01,\n         1.32509732e-01],\n       [ 5.53333275e-01, -1.28296331e+00,  6.49083415e-01,\n         3.95774101e-01],\n       [ 3.10997534e-01, -5.92373012e-01,  5.35408562e-01,\n         8.77547895e-04],\n       [ 6.74501145e-01, -3.62176246e-01,  3.08058854e-01,\n         1.32509732e-01],\n       [ 9.16836886e-01, -1.31979479e-01,  3.64896281e-01,\n         2.64141916e-01],\n       [ 1.15917263e+00, -5.92373012e-01,  5.92245988e-01,\n         2.64141916e-01],\n       [ 1.03800476e+00, -1.31979479e-01,  7.05920842e-01,\n         6.59038469e-01],\n       [ 1.89829664e-01, -3.62176246e-01,  4.21733708e-01,\n         3.95774101e-01],\n       [-1.73673948e-01, -1.05276654e+00, -1.46640561e-01,\n        -2.62386821e-01],\n       [-4.16009689e-01, -1.51316008e+00,  2.38717193e-02,\n        -1.30754636e-01],\n       [-4.16009689e-01, -1.51316008e+00, -3.29657076e-02,\n        -2.62386821e-01],\n       [-5.25060772e-02, -8.22569778e-01,  8.07091462e-02,\n         8.77547895e-04],\n       [ 1.89829664e-01, -8.22569778e-01,  7.62758269e-01,\n         5.27406285e-01],\n       [-5.37177559e-01, -1.31979479e-01,  4.21733708e-01,\n         3.95774101e-01],\n       [ 1.89829664e-01,  7.88807586e-01,  4.21733708e-01,\n         5.27406285e-01],\n       [ 1.03800476e+00,  9.82172869e-02,  5.35408562e-01,\n         3.95774101e-01],\n       [ 5.53333275e-01, -1.74335684e+00,  3.64896281e-01,\n         1.32509732e-01],\n       [-2.94841818e-01, -1.31979479e-01,  1.94384000e-01,\n         1.32509732e-01],\n       [-4.16009689e-01, -1.28296331e+00,  1.37546573e-01,\n         1.32509732e-01],\n       [-4.16009689e-01, -1.05276654e+00,  3.64896281e-01,\n         8.77547895e-04],\n       [ 3.10997534e-01, -1.31979479e-01,  4.78571135e-01,\n         2.64141916e-01],\n       [-5.25060772e-02, -1.05276654e+00,  1.37546573e-01,\n         8.77547895e-04],\n       [-1.02184904e+00, -1.74335684e+00, -2.60315415e-01,\n        -2.62386821e-01],\n       [-2.94841818e-01, -8.22569778e-01,  2.51221427e-01,\n         1.32509732e-01],\n       [-1.73673948e-01, -1.31979479e-01,  2.51221427e-01,\n         8.77547895e-04],\n       [-1.73673948e-01, -3.62176246e-01,  2.51221427e-01,\n         1.32509732e-01],\n       [ 4.32165405e-01, -3.62176246e-01,  3.08058854e-01,\n         1.32509732e-01],\n       [-9.00681170e-01, -1.28296331e+00, -4.30827696e-01,\n        -1.30754636e-01],\n       [-1.73673948e-01, -5.92373012e-01,  1.94384000e-01,\n         1.32509732e-01],\n       [ 5.53333275e-01,  5.58610819e-01,  1.27429511e+00,\n         1.71209594e+00],\n       [-5.25060772e-02, -8.22569778e-01,  7.62758269e-01,\n         9.22302838e-01],\n       [ 1.52267624e+00, -1.31979479e-01,  1.21745768e+00,\n         1.18556721e+00],\n       [ 5.53333275e-01, -3.62176246e-01,  1.04694540e+00,\n         7.90670654e-01],\n       [ 7.95669016e-01, -1.31979479e-01,  1.16062026e+00,\n         1.31719939e+00],\n       [ 2.12851559e+00, -1.31979479e-01,  1.61531967e+00,\n         1.18556721e+00],\n       [-1.14301691e+00, -1.28296331e+00,  4.21733708e-01,\n         6.59038469e-01],\n       [ 1.76501198e+00, -3.62176246e-01,  1.44480739e+00,\n         7.90670654e-01],\n       [ 1.03800476e+00, -1.28296331e+00,  1.16062026e+00,\n         7.90670654e-01],\n       [ 1.64384411e+00,  1.24920112e+00,  1.33113254e+00,\n         1.71209594e+00],\n       [ 7.95669016e-01,  3.28414053e-01,  7.62758269e-01,\n         1.05393502e+00],\n       [ 6.74501145e-01, -8.22569778e-01,  8.76433123e-01,\n         9.22302838e-01],\n       [ 1.15917263e+00, -1.31979479e-01,  9.90107977e-01,\n         1.18556721e+00],\n       [-1.73673948e-01, -1.28296331e+00,  7.05920842e-01,\n         1.05393502e+00],\n       [-5.25060772e-02, -5.92373012e-01,  7.62758269e-01,\n         1.58046376e+00],\n       [ 6.74501145e-01,  3.28414053e-01,  8.76433123e-01,\n         1.44883158e+00],\n       [ 7.95669016e-01, -1.31979479e-01,  9.90107977e-01,\n         7.90670654e-01],\n       [ 2.24968346e+00,  1.70959465e+00,  1.67215710e+00,\n         1.31719939e+00],\n       [ 2.24968346e+00, -1.05276654e+00,  1.78583195e+00,\n         1.44883158e+00],\n       [ 1.89829664e-01, -1.97355361e+00,  7.05920842e-01,\n         3.95774101e-01],\n       [ 1.28034050e+00,  3.28414053e-01,  1.10378283e+00,\n         1.44883158e+00],\n       [-2.94841818e-01, -5.92373012e-01,  6.49083415e-01,\n         1.05393502e+00],\n       [ 2.24968346e+00, -5.92373012e-01,  1.67215710e+00,\n         1.05393502e+00],\n       [ 5.53333275e-01, -8.22569778e-01,  6.49083415e-01,\n         7.90670654e-01],\n       [ 1.03800476e+00,  5.58610819e-01,  1.10378283e+00,\n         1.18556721e+00],\n       [ 1.64384411e+00,  3.28414053e-01,  1.27429511e+00,\n         7.90670654e-01],\n       [ 4.32165405e-01, -5.92373012e-01,  5.92245988e-01,\n         7.90670654e-01],\n       [ 3.10997534e-01, -1.31979479e-01,  6.49083415e-01,\n         7.90670654e-01],\n       [ 6.74501145e-01, -5.92373012e-01,  1.04694540e+00,\n         1.18556721e+00],\n       [ 1.64384411e+00, -1.31979479e-01,  1.16062026e+00,\n         5.27406285e-01],\n       [ 1.88617985e+00, -5.92373012e-01,  1.33113254e+00,\n         9.22302838e-01],\n       [ 2.49201920e+00,  1.70959465e+00,  1.50164482e+00,\n         1.05393502e+00],\n       [ 6.74501145e-01, -5.92373012e-01,  1.04694540e+00,\n         1.31719939e+00],\n       [ 5.53333275e-01, -5.92373012e-01,  7.62758269e-01,\n         3.95774101e-01],\n       [ 3.10997534e-01, -1.05276654e+00,  1.04694540e+00,\n         2.64141916e-01],\n       [ 2.24968346e+00, -1.31979479e-01,  1.33113254e+00,\n         1.44883158e+00],\n       [ 5.53333275e-01,  7.88807586e-01,  1.04694540e+00,\n         1.58046376e+00],\n       [ 6.74501145e-01,  9.82172869e-02,  9.90107977e-01,\n         7.90670654e-01],\n       [ 1.89829664e-01, -1.31979479e-01,  5.92245988e-01,\n         7.90670654e-01],\n       [ 1.28034050e+00,  9.82172869e-02,  9.33270550e-01,\n         1.18556721e+00],\n       [ 1.03800476e+00,  9.82172869e-02,  1.04694540e+00,\n         1.58046376e+00],\n       [ 1.28034050e+00,  9.82172869e-02,  7.62758269e-01,\n         1.44883158e+00],\n       [-5.25060772e-02, -8.22569778e-01,  7.62758269e-01,\n         9.22302838e-01],\n       [ 1.15917263e+00,  3.28414053e-01,  1.21745768e+00,\n         1.44883158e+00],\n       [ 1.03800476e+00,  5.58610819e-01,  1.10378283e+00,\n         1.71209594e+00],\n       [ 1.03800476e+00, -1.31979479e-01,  8.19595696e-01,\n         1.44883158e+00],\n       [ 5.53333275e-01, -1.28296331e+00,  7.05920842e-01,\n         9.22302838e-01],\n       [ 7.95669016e-01, -1.31979479e-01,  8.19595696e-01,\n         1.05393502e+00],\n       [ 4.32165405e-01,  7.88807586e-01,  9.33270550e-01,\n         1.44883158e+00],\n       [ 6.86617933e-02, -1.31979479e-01,  7.62758269e-01,\n         7.90670654e-01]])"
     },
     "execution_count": 21,
     "metadata": {},
     "output_type": "execute_result"
    }
   ],
   "source": [
    "# scale the data\n",
    "\n",
    "from sklearn.preprocessing import StandardScaler\n",
    "scaler = StandardScaler()\n",
    "iris_df_scaled = scaler.fit_transform(iris_df)\n",
    "iris_df_scaled\n",
    "\n"
   ],
   "metadata": {
    "collapsed": false,
    "ExecuteTime": {
     "end_time": "2024-02-27T10:44:50.107967500Z",
     "start_time": "2024-02-27T10:44:50.078381500Z"
    }
   },
   "id": "35747fb2bf3b5564",
   "execution_count": 21
  },
  {
   "cell_type": "code",
   "outputs": [
    {
     "data": {
      "text/plain": "array([[-2.26470281,  0.4800266 , -0.12770602],\n       [-2.08096115, -0.67413356, -0.23460885],\n       [-2.36422905, -0.34190802,  0.04420148],\n       [-2.29938422, -0.59739451,  0.09129011],\n       [-2.38984217,  0.64683538,  0.0157382 ],\n       [-2.07563095,  1.48917752,  0.02696829],\n       [-2.44402884,  0.0476442 ,  0.3354704 ],\n       [-2.23284716,  0.22314807, -0.0886955 ],\n       [-2.33464048, -1.11532768,  0.14507686],\n       [-2.18432817, -0.46901356, -0.25376557],\n       [-2.1663101 ,  1.04369065, -0.2686811 ],\n       [-2.32613087,  0.13307834,  0.09375924],\n       [-2.2184509 , -0.72867617, -0.23091124],\n       [-2.6331007 , -0.96150673,  0.18079608],\n       [-2.1987406 ,  1.86005711, -0.472901  ],\n       [-2.26221453,  2.68628449,  0.03052661],\n       [-2.2075877 ,  1.48360936, -0.00534409],\n       [-2.19034951,  0.48883832, -0.04421532],\n       [-1.898572  ,  1.40501879, -0.37434327],\n       [-2.34336905,  1.12784938,  0.13263047],\n       [-1.914323  ,  0.40885571, -0.42129259],\n       [-2.20701284,  0.92412143,  0.15986528],\n       [-2.7743447 ,  0.45834367,  0.3321791 ],\n       [-1.81866953,  0.08555853,  0.0344886 ],\n       [-2.22716331,  0.13725446,  0.11799354],\n       [-1.95184633, -0.62561859, -0.30564098],\n       [-2.05115137,  0.24216355,  0.08636401],\n       [-2.16857717,  0.52714953, -0.20681625],\n       [-2.13956345,  0.31321781, -0.27115024],\n       [-2.26526149, -0.3377319 ,  0.06843578],\n       [-2.14012214, -0.50454069, -0.07500844],\n       [-1.83159477,  0.42369507, -0.27046738],\n       [-2.61494794,  1.79357586,  0.04722842],\n       [-2.44617739,  2.15072788, -0.08266805],\n       [-2.10997488, -0.46020184, -0.17027486],\n       [-2.2078089 , -0.2061074 , -0.22544158],\n       [-2.04514621,  0.66155811, -0.48453741],\n       [-2.52733191,  0.59229277,  0.01943581],\n       [-2.42963258, -0.90418004,  0.19325466],\n       [-2.16971071,  0.26887896, -0.17588382],\n       [-2.28647514,  0.44171539,  0.03489491],\n       [-1.85812246, -2.33741516, -0.20423422],\n       [-2.5536384 , -0.47910069,  0.30576645],\n       [-1.96444768,  0.47232667,  0.30960132],\n       [-2.13705901,  1.14222926,  0.24843356],\n       [-2.0697443 , -0.71105273, -0.06392983],\n       [-2.38473317,  1.1204297 ,  0.05721786],\n       [-2.39437631, -0.38624687,  0.1394679 ],\n       [-2.22944655,  0.99795976, -0.18149278],\n       [-2.20383344,  0.00921636, -0.15302949],\n       [ 1.10178118,  0.86297242, -0.68458616],\n       [ 0.73133743,  0.59461473, -0.09412172],\n       [ 1.24097932,  0.61629765, -0.55400684],\n       [ 0.40748306, -1.75440399, -0.02310177],\n       [ 1.0754747 , -0.20842105, -0.39825552],\n       [ 0.38868734, -0.59328364,  0.12419155],\n       [ 0.74652974,  0.77301931,  0.1489694 ],\n       [-0.48732274, -1.85242909,  0.24926527],\n       [ 0.92790164,  0.03222608, -0.59616936],\n       [ 0.01142619, -1.03401828,  0.53889939],\n       [-0.11019628, -2.65407282, -0.04679044],\n       [ 0.44069345, -0.06329519,  0.20507382],\n       [ 0.56210831, -1.76472438, -0.76577139],\n       [ 0.71956189, -0.18622461, -0.06865895],\n       [-0.0333547 , -0.43900321,  0.19493289],\n       [ 0.87540719,  0.50906396, -0.50351138],\n       [ 0.35025167, -0.19631173,  0.49087307],\n       [ 0.15881005, -0.79209574, -0.30203717],\n       [ 1.22509363, -1.6222438 , -0.48230402],\n       [ 0.1649179 , -1.30260923, -0.17283781],\n       [ 0.73768265,  0.39657156,  0.61652631],\n       [ 0.47628719, -0.41732028, -0.26495223],\n       [ 1.2341781 , -0.93332573, -0.36841227],\n       [ 0.6328582 , -0.41638772, -0.29189625],\n       [ 0.70266118, -0.06341182, -0.44602701],\n       [ 0.87427365,  0.25079339, -0.47257895],\n       [ 1.25650912, -0.07725602, -0.727155  ],\n       [ 1.35840512,  0.33131168, -0.26082658],\n       [ 0.66480037, -0.22592785,  0.08586389],\n       [-0.04025861, -1.05871855, -0.31957333],\n       [ 0.13079518, -1.56227183, -0.14998348],\n       [ 0.02345269, -1.57247559, -0.24155228],\n       [ 0.24153827, -0.77725638, -0.15121196],\n       [ 1.06109461, -0.63384324,  0.10531139],\n       [ 0.22397877, -0.28777351,  0.66524972],\n       [ 0.42913912,  0.84558224,  0.45063407],\n       [ 1.04872805,  0.5220518 , -0.39578638],\n       [ 1.04453138, -1.38298872, -0.68829596],\n       [ 0.06958832, -0.21950333,  0.29157927],\n       [ 0.28347724, -1.32932464,  0.08941002],\n       [ 0.27907778, -1.12002852,  0.0944876 ],\n       [ 0.62456979,  0.02492303, -0.02048115],\n       [ 0.33653037, -0.98840402, -0.19938976],\n       [-0.36218338, -2.01923787,  0.10582105],\n       [ 0.28858624, -0.85573032,  0.13088969],\n       [ 0.09136066, -0.18119213,  0.12897834],\n       [ 0.22771687, -0.38492008,  0.15621315],\n       [ 0.57638829, -0.1548736 , -0.27165036],\n       [-0.44766702, -1.54379203,  0.19040093],\n       [ 0.25673059, -0.5988518 ,  0.09187916],\n       [ 1.84456887,  0.87042131,  1.00540102],\n       [ 1.15788161, -0.69886986,  0.53016015],\n       [ 2.20526679,  0.56201048, -0.20291417],\n       [ 1.44015066, -0.04698759,  0.16363011],\n       [ 1.86781222,  0.29504482,  0.39562837],\n       [ 2.75187334,  0.8004092 , -0.5823091 ],\n       [ 0.36701769, -1.56150289,  0.98689327],\n       [ 2.30243944,  0.42006558, -0.65170644],\n       [ 2.00668647, -0.71143865, -0.39399057],\n       [ 2.25977735,  1.92101038,  0.3975519 ],\n       [ 1.36417549,  0.69275645,  0.28461207],\n       [ 1.60267867, -0.42170045,  0.02318641],\n       [ 1.8839007 ,  0.41924965,  0.02633841],\n       [ 1.2601151 , -1.16226042,  0.58024929],\n       [ 1.4676452 , -0.44227159,  1.00386957],\n       [ 1.59007732,  0.67624481,  0.63842871],\n       [ 1.47143146,  0.25562182,  0.03743126],\n       [ 2.42632899,  2.55666125, -0.12788146],\n       [ 3.31069558,  0.01778095, -0.7033053 ],\n       [ 1.26376667, -1.70674538, -0.26753689],\n       [ 2.0377163 ,  0.91046741,  0.23479948],\n       [ 0.97798073, -0.57176432,  0.8281272 ],\n       [ 2.89765149,  0.41364106, -0.85742182],\n       [ 1.33323218, -0.48181122, -0.00542836],\n       [ 1.7007339 ,  1.01392187,  0.29845061],\n       [ 1.95432671,  1.0077776 , -0.41998472],\n       [ 1.17510363, -0.31639447,  0.12993776],\n       [ 1.02095055,  0.06434603,  0.33771597],\n       [ 1.78834992, -0.18736121,  0.27065801],\n       [ 1.86364755,  0.56229073, -0.71563412],\n       [ 2.43595373,  0.25928443, -0.72781615],\n       [ 2.30492772,  2.62632347, -0.49347381],\n       [ 1.86270322, -0.17854949,  0.35414871],\n       [ 1.11414774, -0.29292262, -0.18348839],\n       [ 1.2024733 , -0.81131527, -0.16472376],\n       [ 2.79877045,  0.85680333, -0.5429065 ],\n       [ 1.57625591,  1.06858111,  0.94585382],\n       [ 1.3462921 ,  0.42243061,  0.18087548],\n       [ 0.92482492,  0.0172231 ,  0.41682619],\n       [ 1.85204505,  0.67612817, -0.01267211],\n       [ 2.01481043,  0.61388564,  0.42833284],\n       [ 1.90178409,  0.68957549,  0.13007501],\n       [ 1.15788161, -0.69886986,  0.53016015],\n       [ 2.04055823,  0.8675206 ,  0.338144  ],\n       [ 1.9981471 ,  1.04916875,  0.63241344],\n       [ 1.87050329,  0.38696608,  0.25627385],\n       [ 1.56458048, -0.89668681, -0.02637135],\n       [ 1.5211705 ,  0.26906914,  0.18017838],\n       [ 1.37278779,  1.01125442,  0.93339524],\n       [ 0.96065603, -0.02433167,  0.52824881]])"
     },
     "execution_count": 22,
     "metadata": {},
     "output_type": "execute_result"
    }
   ],
   "source": [
    "# perform PCA on the scaled data\n",
    "\n",
    "from sklearn.decomposition import PCA\n",
    "pca = PCA(n_components=3)\n",
    "pca.fit_transform(iris_df_scaled)"
   ],
   "metadata": {
    "collapsed": false,
    "ExecuteTime": {
     "end_time": "2024-02-27T10:49:00.306918400Z",
     "start_time": "2024-02-27T10:49:00.036538500Z"
    }
   },
   "id": "5720a5c84e42b972",
   "execution_count": 22
  },
  {
   "cell_type": "code",
   "outputs": [
    {
     "data": {
      "text/plain": "<Figure size 640x480 with 1 Axes>",
      "image/png": "[encoded data removed]"
     },
     "metadata": {},
     "output_type": "display_data"
    }
   ],
   "source": [
    "# plot the explained variance ratio\n",
    "\n",
    "pca.explained_variance_ratio_\n",
    "import matplotlib.pyplot as plt\n",
    "\n",
    "plt.bar(range(1,len(pca.explained_variance_ratio_)+1),pca.explained_variance_ratio_)\n",
    "plt.xlabel('Principal component')\n",
    "plt.ylabel('Explained Variance')\n",
    "plt.show()\n"
   ],
   "metadata": {
    "collapsed": false,
    "ExecuteTime": {
     "end_time": "2024-02-27T10:56:20.464285500Z",
     "start_time": "2024-02-27T10:56:20.166932500Z"
    }
   },
   "id": "82bf06bb3f876b20",
   "execution_count": 25
  },
  {
   "cell_type": "code",
   "outputs": [],
   "source": [
    "# plot the first two principal components\n",
    "# add code here\n"
   ],
   "metadata": {
    "collapsed": false,
    "ExecuteTime": {
     "end_time": "2024-02-27T10:30:10.558307800Z",
     "start_time": "2024-02-27T10:30:10.453504Z"
    }
   },
   "id": "540d84051cfb8f3c",
   "execution_count": 6
  },
  {
   "cell_type": "code",
   "outputs": [],
   "source": [
    "# perform t-SNE, MDS, t-SNE, and UMAP on the scaled data and compare the results\n",
    "# add code here\n"
   ],
   "metadata": {
    "collapsed": false,
    "ExecuteTime": {
     "end_time": "2024-02-27T10:30:10.559391700Z",
     "start_time": "2024-02-27T10:30:10.472500700Z"
    }
   },
   "id": "a0c851ef89b93e71",
   "execution_count": 7
  },
  {
   "cell_type": "code",
   "outputs": [],
   "source": [
    "# add code here\n"
   ],
   "metadata": {
    "collapsed": false,
    "ExecuteTime": {
     "end_time": "2024-02-27T10:30:10.590499700Z",
     "start_time": "2024-02-27T10:30:10.485156300Z"
    }
   },
   "id": "44a841b495fed0f2",
   "execution_count": 8
  },
  {
   "cell_type": "code",
   "outputs": [],
   "source": [
    "# add code here\n"
   ],
   "metadata": {
    "collapsed": false,
    "ExecuteTime": {
     "end_time": "2024-02-27T10:30:10.591563300Z",
     "start_time": "2024-02-27T10:30:10.498850200Z"
    }
   },
   "id": "552e9ef00527b6e5",
   "execution_count": 9
  },
  {
   "cell_type": "code",
   "outputs": [],
   "source": [
    "# add code here\n"
   ],
   "metadata": {
    "collapsed": false,
    "ExecuteTime": {
     "end_time": "2024-02-27T10:30:10.591563300Z",
     "start_time": "2024-02-27T10:30:10.515878900Z"
    }
   },
   "id": "eee7e63b2e4bdf2b",
   "execution_count": 10
  },
  {
   "cell_type": "code",
   "outputs": [],
   "source": [],
   "metadata": {
    "collapsed": false,
    "ExecuteTime": {
     "end_time": "2024-02-27T10:30:10.592586600Z",
     "start_time": "2024-02-27T10:30:10.530592100Z"
    }
   },
   "id": "153c63bd210789b3",
   "execution_count": 10
  }
 ],
 "metadata": {
  "kernelspec": {
   "display_name": "Python 3",
   "language": "python",
   "name": "python3"
  },
  "language_info": {
   "codemirror_mode": {
    "name": "ipython",
    "version": 2
   },
   "file_extension": ".py",
   "mimetype": "text/x-python",
   "name": "python",
   "nbconvert_exporter": "python",
   "pygments_lexer": "ipython2",
   "version": "2.7.6"
  }
 },
 "nbformat": 4,
 "nbformat_minor": 5
}
