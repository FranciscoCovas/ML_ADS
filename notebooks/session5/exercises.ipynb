{
 "cells": [
  {
   "cell_type": "code",
   "outputs": [
    {
     "data": {
      "text/plain": "         malic_acid   ash  alcalinity_of_ash  magnesium  total_phenols  \\\nalcohol                                                                  \n14.23          1.71  2.43               15.6      127.0           2.80   \n13.20          1.78  2.14               11.2      100.0           2.65   \n13.16          2.36   NaN               18.6      101.0           2.80   \nNaN            1.95  2.50               16.8      113.0           3.85   \n13.24          2.59  2.87               21.0      118.0           2.80   \n\n         flavanoids  nonflavanoid_phenols  proanthocyanins  color_intensity  \\\nalcohol                                                                       \n14.23          3.06                  0.28             2.29             5.64   \n13.20          2.76                  0.26             1.28             4.38   \n13.16          3.24                  0.30             2.81             5.68   \nNaN            3.49                  0.24             2.18             7.80   \n13.24          2.69                  0.39             1.82             4.32   \n\n          hue  od280/od315_of_diluted_wines  proline  target  \nalcohol                                                       \n14.23    1.04                          3.92   1065.0       0  \n13.20    1.05                          3.40   1050.0       0  \n13.16    1.03                          3.17   1185.0       0  \nNaN      0.86                          3.45   1480.0       0  \n13.24    1.04                          2.93    735.0       0  ",
      "text/html": "<div>\n<style scoped>\n    .dataframe tbody tr th:only-of-type {\n        vertical-align: middle;\n    }\n\n    .dataframe tbody tr th {\n        vertical-align: top;\n    }\n\n    .dataframe thead th {\n        text-align: right;\n    }\n</style>\n<table border=\"1\" class=\"dataframe\">\n  <thead>\n    <tr style=\"text-align: right;\">\n      <th></th>\n      <th>malic_acid</th>\n      <th>ash</th>\n      <th>alcalinity_of_ash</th>\n      <th>magnesium</th>\n      <th>total_phenols</th>\n      <th>flavanoids</th>\n      <th>nonflavanoid_phenols</th>\n      <th>proanthocyanins</th>\n      <th>color_intensity</th>\n      <th>hue</th>\n      <th>od280/od315_of_diluted_wines</th>\n      <th>proline</th>\n      <th>target</th>\n    </tr>\n    <tr>\n      <th>alcohol</th>\n      <th></th>\n      <th></th>\n      <th></th>\n      <th></th>\n      <th></th>\n      <th></th>\n      <th></th>\n      <th></th>\n      <th></th>\n      <th></th>\n      <th></th>\n      <th></th>\n      <th></th>\n    </tr>\n  </thead>\n  <tbody>\n    <tr>\n      <th>14.23</th>\n      <td>1.71</td>\n      <td>2.43</td>\n      <td>15.6</td>\n      <td>127.0</td>\n      <td>2.80</td>\n      <td>3.06</td>\n      <td>0.28</td>\n      <td>2.29</td>\n      <td>5.64</td>\n      <td>1.04</td>\n      <td>3.92</td>\n      <td>1065.0</td>\n      <td>0</td>\n    </tr>\n    <tr>\n      <th>13.20</th>\n      <td>1.78</td>\n      <td>2.14</td>\n      <td>11.2</td>\n      <td>100.0</td>\n      <td>2.65</td>\n      <td>2.76</td>\n      <td>0.26</td>\n      <td>1.28</td>\n      <td>4.38</td>\n      <td>1.05</td>\n      <td>3.40</td>\n      <td>1050.0</td>\n      <td>0</td>\n    </tr>\n    <tr>\n      <th>13.16</th>\n      <td>2.36</td>\n      <td>NaN</td>\n      <td>18.6</td>\n      <td>101.0</td>\n      <td>2.80</td>\n      <td>3.24</td>\n      <td>0.30</td>\n      <td>2.81</td>\n      <td>5.68</td>\n      <td>1.03</td>\n      <td>3.17</td>\n      <td>1185.0</td>\n      <td>0</td>\n    </tr>\n    <tr>\n      <th>NaN</th>\n      <td>1.95</td>\n      <td>2.50</td>\n      <td>16.8</td>\n      <td>113.0</td>\n      <td>3.85</td>\n      <td>3.49</td>\n      <td>0.24</td>\n      <td>2.18</td>\n      <td>7.80</td>\n      <td>0.86</td>\n      <td>3.45</td>\n      <td>1480.0</td>\n      <td>0</td>\n    </tr>\n    <tr>\n      <th>13.24</th>\n      <td>2.59</td>\n      <td>2.87</td>\n      <td>21.0</td>\n      <td>118.0</td>\n      <td>2.80</td>\n      <td>2.69</td>\n      <td>0.39</td>\n      <td>1.82</td>\n      <td>4.32</td>\n      <td>1.04</td>\n      <td>2.93</td>\n      <td>735.0</td>\n      <td>0</td>\n    </tr>\n  </tbody>\n</table>\n</div>"
     },
     "execution_count": 2,
     "metadata": {},
     "output_type": "execute_result"
    }
   ],
   "source": [
    "# load the wines dataset (datasets/wines.csv)\n",
    "# add code here\n",
    "import pandas as pd\n",
    "\n",
    "wines_df = pd.read_csv('../../datasets/wines.csv', index_col=0)\n",
    "wines_df.head()"
   ],
   "metadata": {
    "collapsed": false,
    "ExecuteTime": {
     "end_time": "2024-02-22T10:58:27.020091800Z",
     "start_time": "2024-02-22T10:58:26.956751Z"
    }
   },
   "id": "294c3fa822a003c9",
   "execution_count": 2
  },
  {
   "cell_type": "code",
   "outputs": [],
   "source": [
    "# do some initial exploratory data analysis\n",
    "# add code here\n",
    "\n"
   ],
   "metadata": {
    "collapsed": false,
    "ExecuteTime": {
     "end_time": "2024-02-22T10:58:27.021185800Z",
     "start_time": "2024-02-22T10:58:26.999594900Z"
    }
   },
   "id": "380af4a31a4ec8d2",
   "execution_count": 3
  },
  {
   "cell_type": "code",
   "outputs": [],
   "source": [
    "# check for missing values in the dataset\n",
    "# add code here\n",
    "\n"
   ],
   "metadata": {
    "collapsed": false,
    "ExecuteTime": {
     "end_time": "2024-02-22T10:58:27.060916500Z",
     "start_time": "2024-02-22T10:58:27.026969600Z"
    }
   },
   "id": "381d5adf9d497c3",
   "execution_count": 4
  },
  {
   "cell_type": "code",
   "outputs": [],
   "source": [
    "# if any, impute the missing values with the mean of the column\n",
    "# add code here\n"
   ],
   "metadata": {
    "collapsed": false,
    "ExecuteTime": {
     "end_time": "2024-02-22T10:58:27.113781500Z",
     "start_time": "2024-02-22T10:58:27.047368Z"
    }
   },
   "id": "7b359753823cde15",
   "execution_count": 5
  },
  {
   "cell_type": "code",
   "outputs": [],
   "source": [
    "# scale the features using StandardScaler\n",
    "# add code here\n"
   ],
   "metadata": {
    "collapsed": false,
    "ExecuteTime": {
     "end_time": "2024-02-22T10:58:27.167376400Z",
     "start_time": "2024-02-22T10:58:27.067472900Z"
    }
   },
   "id": "d1de5eac0e45df40",
   "execution_count": 6
  },
  {
   "cell_type": "code",
   "outputs": [],
   "source": [
    "# perform hierarchical clustering on the dataset\n",
    "# add code here\n"
   ],
   "metadata": {
    "collapsed": false,
    "ExecuteTime": {
     "end_time": "2024-02-22T10:58:27.289749300Z",
     "start_time": "2024-02-22T10:58:27.120390200Z"
    }
   },
   "id": "1097441d7f32e81f",
   "execution_count": 7
  },
  {
   "cell_type": "code",
   "outputs": [],
   "source": [
    "# plot the dendrogram\n",
    "# add code here\n"
   ],
   "metadata": {
    "collapsed": false,
    "ExecuteTime": {
     "end_time": "2024-02-22T10:58:27.431418800Z",
     "start_time": "2024-02-22T10:58:27.299448Z"
    }
   },
   "id": "19b27f0bd830e710",
   "execution_count": 8
  },
  {
   "cell_type": "code",
   "outputs": [],
   "source": [
    "# test different linkage methods and metrics and compare the results\n",
    "# add code here\n"
   ],
   "metadata": {
    "collapsed": false,
    "ExecuteTime": {
     "end_time": "2024-02-22T10:58:27.464941Z",
     "start_time": "2024-02-22T10:58:27.346138Z"
    }
   },
   "id": "3b95da9bb26a6c3f",
   "execution_count": 9
  },
  {
   "cell_type": "code",
   "outputs": [],
   "source": [
    "# perform k-means clustering on the dataset\n",
    "# add code here\n"
   ],
   "metadata": {
    "collapsed": false,
    "ExecuteTime": {
     "end_time": "2024-02-22T10:58:27.534377900Z",
     "start_time": "2024-02-22T10:58:27.474363600Z"
    }
   },
   "id": "babb15997e8f3b7a",
   "execution_count": 10
  },
  {
   "cell_type": "code",
   "outputs": [],
   "source": [
    "# use the elbow method to find the optimal number of clusters\n",
    "# add code here\n"
   ],
   "metadata": {
    "collapsed": false,
    "ExecuteTime": {
     "end_time": "2024-02-22T10:58:27.561277100Z",
     "start_time": "2024-02-22T10:58:27.517021400Z"
    }
   },
   "id": "6360c584a2eb772e",
   "execution_count": 11
  },
  {
   "cell_type": "code",
   "outputs": [],
   "source": [
    "# compare the results of hierarchical and k-means clustering\n",
    "#"
   ],
   "metadata": {
    "collapsed": false,
    "ExecuteTime": {
     "end_time": "2024-02-22T10:58:27.592476200Z",
     "start_time": "2024-02-22T10:58:27.565587200Z"
    }
   },
   "id": "a2df0b820c711d44",
   "execution_count": 12
  }
 ],
 "metadata": {
  "kernelspec": {
   "display_name": "Python 3",
   "language": "python",
   "name": "python3"
  },
  "language_info": {
   "codemirror_mode": {
    "name": "ipython",
    "version": 2
   },
   "file_extension": ".py",
   "mimetype": "text/x-python",
   "name": "python",
   "nbconvert_exporter": "python",
   "pygments_lexer": "ipython2",
   "version": "2.7.6"
  }
 },
 "nbformat": 4,
 "nbformat_minor": 5
}
